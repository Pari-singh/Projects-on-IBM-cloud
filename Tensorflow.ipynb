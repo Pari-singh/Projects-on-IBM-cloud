{
    "nbformat_minor": 1, 
    "cells": [
        {
            "execution_count": 28, 
            "cell_type": "code", 
            "metadata": {}, 
            "outputs": [
                {
                    "output_type": "stream", 
                    "name": "stdout", 
                    "text": "Extracting MNIST_data/train-images-idx3-ubyte.gz\nExtracting MNIST_data/train-labels-idx1-ubyte.gz\nExtracting MNIST_data/t10k-images-idx3-ubyte.gz\nExtracting MNIST_data/t10k-labels-idx1-ubyte.gz\n"
                }
            ], 
            "source": "from tensorflow.examples.tutorials.mnist import input_data\nmnist = input_data.read_data_sets(\"MNIST_data/\",one_hot=True)"
        }, 
        {
            "execution_count": 30, 
            "cell_type": "code", 
            "metadata": {}, 
            "outputs": [], 
            "source": "%matplotlib inline\nimport matplotlib.pyplot as plt "
        }, 
        {
            "execution_count": 31, 
            "cell_type": "code", 
            "metadata": {}, 
            "outputs": [], 
            "source": "batch_xs, batch_ys = mnist.train.next_batch(1)"
        }, 
        {
            "execution_count": 33, 
            "cell_type": "code", 
            "metadata": {}, 
            "outputs": [
                {
                    "output_type": "stream", 
                    "name": "stdout", 
                    "text": "[[ 0.  0.  0.  1.  0.  0.  0.  0.  0.  0.]]\n"
                }, 
                {
                    "execution_count": 33, 
                    "metadata": {}, 
                    "data": {
                        "text/plain": "<matplotlib.image.AxesImage at 0x2b3b0d870390>"
                    }, 
                    "output_type": "execute_result"
                }, 
                {
                    "output_type": "display_data", 
                    "data": {
                        "image/png": "[encoded data removed]", 
                        "text/plain": "<matplotlib.figure.Figure at 0x2b3b0d489c50>"
                    }, 
                    "metadata": {}
                }
            ], 
            "source": "# reshape it back to 28x28\nbatch_xs = batch_xs.reshape([28,28])\nplt.gray()\nprint (batch_ys)\nplt.imshow(batch_xs)"
        }, 
        {
            "execution_count": 34, 
            "cell_type": "code", 
            "metadata": {}, 
            "outputs": [], 
            "source": "# starting tensorflow code by using placeholder : a variable where we assign value at the later stage, this allows us to build computation graph withput needing hte actual data\n\nx = tf.placeholder(tf.float32, [None, 784]) # placeholders are used to store data values\nW = tf.Variable(tf.zeros([784,10])) #whereas Variable is the one tensorflow tweaks during training\nb = tf.Variable(tf.zeros([10]))\ny_ = tf.nn.softmax(tf.matmul(x,W) + b)"
        }, 
        {
            "execution_count": 35, 
            "cell_type": "code", 
            "metadata": {}, 
            "outputs": [], 
            "source": "y = tf.placeholder(tf.float32, [None,10])"
        }, 
        {
            "execution_count": 36, 
            "cell_type": "code", 
            "metadata": {}, 
            "outputs": [], 
            "source": "cross_entropy = tf.reduce_mean(-tf.reduce_sum(y * tf.log(y_), reduction_indices = [1])) #reduction indices tells the 10 columns to be reduced to 1 value\ntrain_step = tf.train.GradientDescentOptimizer(0.5).minimize(cross_entropy) #Forward and backprop all taken care!"
        }, 
        {
            "execution_count": 37, 
            "cell_type": "code", 
            "metadata": {}, 
            "outputs": [], 
            "source": "sess = tf.InteractiveSession() # deploys on CPU or GPU..."
        }, 
        {
            "execution_count": 38, 
            "cell_type": "code", 
            "metadata": {}, 
            "outputs": [], 
            "source": "tf.global_variables_initializer().run()  #This initializes the variables which have only been computationally declared\nfor _ in range(1000):\n    batchxs, batchys = mnist.train.next_batch(100) #Taking batch of 100 images\n    sess.run(train_step, feed_dict = {x: batchxs, y: batchys})  #create session object and use feed_dict to match the values to the placeholders created earlier\n"
        }, 
        {
            "execution_count": 39, 
            "cell_type": "code", 
            "metadata": {}, 
            "outputs": [], 
            "source": "correct_pred = tf.equal(tf.argmax(y_,1), tf.argmax(y, 1)) #equal compares the values, argmax returns the single value from one hot vector"
        }, 
        {
            "execution_count": 40, 
            "cell_type": "code", 
            "metadata": {}, 
            "outputs": [], 
            "source": "accuracy = tf.reduce_mean(tf.cast(correct_pred, tf.float32))  #since correct_pred is boolean value, we cast it to float "
        }, 
        {
            "execution_count": 41, 
            "cell_type": "code", 
            "metadata": {}, 
            "outputs": [
                {
                    "output_type": "stream", 
                    "name": "stdout", 
                    "text": "0.9175\n"
                }
            ], 
            "source": "print(sess.run(accuracy, feed_dict={x : mnist.test.images, y : mnist.test.labels}))  #to display the ouptut for anythin in tensor, we need to run the session"
        }, 
        {
            "execution_count": null, 
            "cell_type": "code", 
            "metadata": {}, 
            "outputs": [], 
            "source": ""
        }
    ], 
    "metadata": {
        "kernelspec": {
            "display_name": "Python 3.5 with Spark", 
            "name": "python3", 
            "language": "python3"
        }, 
        "language_info": {
            "mimetype": "text/x-python", 
            "nbconvert_exporter": "python", 
            "version": "3.5.4", 
            "name": "python", 
            "file_extension": ".py", 
            "pygments_lexer": "ipython3", 
            "codemirror_mode": {
                "version": 3, 
                "name": "ipython"
            }
        }
    }, 
    "nbformat": 4
}